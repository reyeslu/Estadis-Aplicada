{
 "cells": [
  {
   "cell_type": "markdown",
   "metadata": {},
   "source": [
    "# R"
   ]
  },
  {
   "cell_type": "markdown",
   "metadata": {},
   "source": [
    "Definición de RNORM: random sampling from the normal distribution"
   ]
  },
  {
   "cell_type": "markdown",
   "metadata": {},
   "source": [
    "Definición de PNORM: cumulative density function of the normal distribution"
   ]
  },
  {
   "cell_type": "markdown",
   "metadata": {},
   "source": [
    "RNORM es la función que se usa para obtener muestras aleatorias de una población teórica que sigue una distribución normal "
   ]
  },
  {
   "cell_type": "code",
   "execution_count": null,
   "metadata": {},
   "outputs": [],
   "source": [
    "# n es el número de valores a obtener"
   ]
  },
  {
   "cell_type": "code",
   "execution_count": null,
   "metadata": {},
   "outputs": [],
   "source": [
    "# mu y SD son la media y la desviación estandar a obtener de la población "
   ]
  },
  {
   "cell_type": "code",
   "execution_count": null,
   "metadata": {},
   "outputs": [],
   "source": [
    "# rnorm (n,mu,SD)"
   ]
  },
  {
   "cell_type": "code",
   "execution_count": 4,
   "metadata": {},
   "outputs": [],
   "source": [
    "muestra <- rnorm (32,500,0.5)"
   ]
  },
  {
   "cell_type": "code",
   "execution_count": 5,
   "metadata": {},
   "outputs": [
    {
     "data": {
      "text/html": [
       "500.102167609869"
      ],
      "text/latex": [
       "500.102167609869"
      ],
      "text/markdown": [
       "500.102167609869"
      ],
      "text/plain": [
       "[1] 500.1022"
      ]
     },
     "metadata": {},
     "output_type": "display_data"
    }
   ],
   "source": [
    "mean (muestra)"
   ]
  },
  {
   "cell_type": "code",
   "execution_count": 6,
   "metadata": {},
   "outputs": [
    {
     "data": {
      "text/html": [
       "0.501533713367412"
      ],
      "text/latex": [
       "0.501533713367412"
      ],
      "text/markdown": [
       "0.501533713367412"
      ],
      "text/plain": [
       "[1] 0.5015337"
      ]
     },
     "metadata": {},
     "output_type": "display_data"
    }
   ],
   "source": [
    "sd (muestra)"
   ]
  },
  {
   "cell_type": "code",
   "execution_count": 7,
   "metadata": {},
   "outputs": [],
   "source": [
    "muestra2 <- rnorm (32,500,0.5)"
   ]
  },
  {
   "cell_type": "code",
   "execution_count": 9,
   "metadata": {},
   "outputs": [
    {
     "data": {
      "image/png": "[encoded data removed]",
      "text/plain": [
       "Plot with title \"Histogram of muestra2\""
      ]
     },
     "metadata": {},
     "output_type": "display_data"
    }
   ],
   "source": [
    "hist (muestra2, freq=F)\n",
    "lines (density (muestra2), lty=2)"
   ]
  },
  {
   "cell_type": "markdown",
   "metadata": {},
   "source": [
    "PNORM es la funcion que se usa para calcular la probabilidad en una curva con distribución normal "
   ]
  },
  {
   "cell_type": "code",
   "execution_count": 14,
   "metadata": {},
   "outputs": [
    {
     "data": {
      "text/html": [
       "0.5"
      ],
      "text/latex": [
       "0.5"
      ],
      "text/markdown": [
       "0.5"
      ],
      "text/plain": [
       "[1] 0.5"
      ]
     },
     "metadata": {},
     "output_type": "display_data"
    }
   ],
   "source": [
    "pnorm (500.1, mean=500.1, sd= 0.501)"
   ]
  },
  {
   "cell_type": "markdown",
   "metadata": {},
   "source": [
    "Definición de DNORM: density function of the normal distribution"
   ]
  },
  {
   "cell_type": "markdown",
   "metadata": {},
   "source": [
    "La función de DNORM es usada para calcular la pobrabilidad de observar una medición con un valor especifico en una densidad de población."
   ]
  },
  {
   "cell_type": "markdown",
   "metadata": {},
   "source": [
    "IQ de 140"
   ]
  },
  {
   "cell_type": "code",
   "execution_count": 16,
   "metadata": {},
   "outputs": [],
   "source": [
    "sample.range <- 50:150"
   ]
  },
  {
   "cell_type": "code",
   "execution_count": 17,
   "metadata": {},
   "outputs": [],
   "source": [
    "iq.mean <- 100"
   ]
  },
  {
   "cell_type": "code",
   "execution_count": 18,
   "metadata": {},
   "outputs": [],
   "source": [
    "iq.sd <- 15"
   ]
  },
  {
   "cell_type": "code",
   "execution_count": 33,
   "metadata": {},
   "outputs": [],
   "source": [
    "iq.dist <- dnorm(sample.range, mean = iq.mean, sd= iq.sd)"
   ]
  },
  {
   "cell_type": "code",
   "execution_count": 34,
   "metadata": {},
   "outputs": [
    {
     "data": {
      "text/html": [
       "<ol class=list-inline>\n",
       "\t<li>0.00010281859975274</li>\n",
       "\t<li>0.000128119864623467</li>\n",
       "\t<li>0.000158939213430989</li>\n",
       "\t<li>0.000196297808025557</li>\n",
       "\t<li>0.000241362415201286</li>\n",
       "\t<li>0.000295456560795867</li>\n",
       "\t<li>0.000360070412079625</li>\n",
       "\t<li>0.000436868805934235</li>\n",
       "\t<li>0.000527696772198665</li>\n",
       "\t<li>0.000634581843689146</li>\n",
       "\t<li>0.000759732401586496</li>\n",
       "\t<li>0.000905531282245707</li>\n",
       "\t<li>0.00107452387424327</li>\n",
       "\t<li>0.00126939996771002</li>\n",
       "\t<li>0.00149296868632286</li>\n",
       "\t<li>0.00174812593958063</li>\n",
       "\t<li>0.00203781398185903</li>\n",
       "\t<li>0.00236497285641543</li>\n",
       "\t<li>0.00273248373634815</li>\n",
       "\t<li>0.00314310444772477</li>\n",
       "\t<li>0.00359939776754587</li>\n",
       "\t<li>0.00410365342328982</li>\n",
       "\t<li>0.00465780507139435</li>\n",
       "\t<li>0.00526334388672628</li>\n",
       "\t<li>0.00592123073937279</li>\n",
       "\t<li>0.00663180925284991</li>\n",
       "\t<li>0.0073947223119637</li>\n",
       "\t<li>0.0082088348017233</li>\n",
       "\t<li>0.00907216549415187</li>\n",
       "\t<li>0.00998183104238299</li>\n",
       "\t<li>0.0109340049783996</li>\n",
       "\t<li>0.0119238944329694</li>\n",
       "\t<li>0.0129457369988809</li>\n",
       "\t<li>0.0139928197416483</li>\n",
       "\t<li>0.0150575218311416</li>\n",
       "\t<li>0.0161313816346096</li>\n",
       "\t<li>0.0172051883935492</li>\n",
       "\t<li>0.0182690978264686</li>\n",
       "\t<li>0.0193127701840988</li>\n",
       "\t<li>0.0203255284640345</li>\n",
       "\t<li>0.0212965337014902</li>\n",
       "\t<li>0.02221497352612</li>\n",
       "\t<li>0.0230702595451282</li>\n",
       "\t<li>0.0238522286111979</li>\n",
       "\t<li>0.0245513426868882</li>\n",
       "\t<li>0.0251588818461995</li>\n",
       "\t<li>0.0256671249730676</li>\n",
       "\t<li>0.0260695129316971</li>\n",
       "\t<li>0.0263607893923878</li>\n",
       "\t<li>0.0265371150875968</li>\n",
       "\t<li>0.0265961520267622</li>\n",
       "\t<li>0.0265371150875968</li>\n",
       "\t<li>0.0263607893923878</li>\n",
       "\t<li>0.0260695129316971</li>\n",
       "\t<li>0.0256671249730676</li>\n",
       "\t<li>0.0251588818461995</li>\n",
       "\t<li>0.0245513426868882</li>\n",
       "\t<li>0.0238522286111979</li>\n",
       "\t<li>0.0230702595451282</li>\n",
       "\t<li>0.02221497352612</li>\n",
       "\t<li>0.0212965337014902</li>\n",
       "\t<li>0.0203255284640345</li>\n",
       "\t<li>0.0193127701840988</li>\n",
       "\t<li>0.0182690978264686</li>\n",
       "\t<li>0.0172051883935492</li>\n",
       "\t<li>0.0161313816346096</li>\n",
       "\t<li>0.0150575218311416</li>\n",
       "\t<li>0.0139928197416483</li>\n",
       "\t<li>0.0129457369988809</li>\n",
       "\t<li>0.0119238944329694</li>\n",
       "\t<li>0.0109340049783996</li>\n",
       "\t<li>0.00998183104238299</li>\n",
       "\t<li>0.00907216549415187</li>\n",
       "\t<li>0.0082088348017233</li>\n",
       "\t<li>0.0073947223119637</li>\n",
       "\t<li>0.00663180925284991</li>\n",
       "\t<li>0.00592123073937279</li>\n",
       "\t<li>0.00526334388672628</li>\n",
       "\t<li>0.00465780507139435</li>\n",
       "\t<li>0.00410365342328982</li>\n",
       "\t<li>0.00359939776754587</li>\n",
       "\t<li>0.00314310444772477</li>\n",
       "\t<li>0.00273248373634815</li>\n",
       "\t<li>0.00236497285641543</li>\n",
       "\t<li>0.00203781398185903</li>\n",
       "\t<li>0.00174812593958063</li>\n",
       "\t<li>0.00149296868632286</li>\n",
       "\t<li>0.00126939996771002</li>\n",
       "\t<li>0.00107452387424327</li>\n",
       "\t<li>0.000905531282245707</li>\n",
       "\t<li>0.000759732401586496</li>\n",
       "\t<li>0.000634581843689146</li>\n",
       "\t<li>0.000527696772198665</li>\n",
       "\t<li>0.000436868805934235</li>\n",
       "\t<li>0.000360070412079625</li>\n",
       "\t<li>0.000295456560795867</li>\n",
       "\t<li>0.000241362415201286</li>\n",
       "\t<li>0.000196297808025557</li>\n",
       "\t<li>0.000158939213430989</li>\n",
       "\t<li>0.000128119864623467</li>\n",
       "\t<li>0.00010281859975274</li>\n",
       "</ol>\n"
      ],
      "text/latex": [
       "\\begin{enumerate*}\n",
       "\\item 0.00010281859975274\n",
       "\\item 0.000128119864623467\n",
       "\\item 0.000158939213430989\n",
       "\\item 0.000196297808025557\n",
       "\\item 0.000241362415201286\n",
       "\\item 0.000295456560795867\n",
       "\\item 0.000360070412079625\n",
       "\\item 0.000436868805934235\n",
       "\\item 0.000527696772198665\n",
       "\\item 0.000634581843689146\n",
       "\\item 0.000759732401586496\n",
       "\\item 0.000905531282245707\n",
       "\\item 0.00107452387424327\n",
       "\\item 0.00126939996771002\n",
       "\\item 0.00149296868632286\n",
       "\\item 0.00174812593958063\n",
       "\\item 0.00203781398185903\n",
       "\\item 0.00236497285641543\n",
       "\\item 0.00273248373634815\n",
       "\\item 0.00314310444772477\n",
       "\\item 0.00359939776754587\n",
       "\\item 0.00410365342328982\n",
       "\\item 0.00465780507139435\n",
       "\\item 0.00526334388672628\n",
       "\\item 0.00592123073937279\n",
       "\\item 0.00663180925284991\n",
       "\\item 0.0073947223119637\n",
       "\\item 0.0082088348017233\n",
       "\\item 0.00907216549415187\n",
       "\\item 0.00998183104238299\n",
       "\\item 0.0109340049783996\n",
       "\\item 0.0119238944329694\n",
       "\\item 0.0129457369988809\n",
       "\\item 0.0139928197416483\n",
       "\\item 0.0150575218311416\n",
       "\\item 0.0161313816346096\n",
       "\\item 0.0172051883935492\n",
       "\\item 0.0182690978264686\n",
       "\\item 0.0193127701840988\n",
       "\\item 0.0203255284640345\n",
       "\\item 0.0212965337014902\n",
       "\\item 0.02221497352612\n",
       "\\item 0.0230702595451282\n",
       "\\item 0.0238522286111979\n",
       "\\item 0.0245513426868882\n",
       "\\item 0.0251588818461995\n",
       "\\item 0.0256671249730676\n",
       "\\item 0.0260695129316971\n",
       "\\item 0.0263607893923878\n",
       "\\item 0.0265371150875968\n",
       "\\item 0.0265961520267622\n",
       "\\item 0.0265371150875968\n",
       "\\item 0.0263607893923878\n",
       "\\item 0.0260695129316971\n",
       "\\item 0.0256671249730676\n",
       "\\item 0.0251588818461995\n",
       "\\item 0.0245513426868882\n",
       "\\item 0.0238522286111979\n",
       "\\item 0.0230702595451282\n",
       "\\item 0.02221497352612\n",
       "\\item 0.0212965337014902\n",
       "\\item 0.0203255284640345\n",
       "\\item 0.0193127701840988\n",
       "\\item 0.0182690978264686\n",
       "\\item 0.0172051883935492\n",
       "\\item 0.0161313816346096\n",
       "\\item 0.0150575218311416\n",
       "\\item 0.0139928197416483\n",
       "\\item 0.0129457369988809\n",
       "\\item 0.0119238944329694\n",
       "\\item 0.0109340049783996\n",
       "\\item 0.00998183104238299\n",
       "\\item 0.00907216549415187\n",
       "\\item 0.0082088348017233\n",
       "\\item 0.0073947223119637\n",
       "\\item 0.00663180925284991\n",
       "\\item 0.00592123073937279\n",
       "\\item 0.00526334388672628\n",
       "\\item 0.00465780507139435\n",
       "\\item 0.00410365342328982\n",
       "\\item 0.00359939776754587\n",
       "\\item 0.00314310444772477\n",
       "\\item 0.00273248373634815\n",
       "\\item 0.00236497285641543\n",
       "\\item 0.00203781398185903\n",
       "\\item 0.00174812593958063\n",
       "\\item 0.00149296868632286\n",
       "\\item 0.00126939996771002\n",
       "\\item 0.00107452387424327\n",
       "\\item 0.000905531282245707\n",
       "\\item 0.000759732401586496\n",
       "\\item 0.000634581843689146\n",
       "\\item 0.000527696772198665\n",
       "\\item 0.000436868805934235\n",
       "\\item 0.000360070412079625\n",
       "\\item 0.000295456560795867\n",
       "\\item 0.000241362415201286\n",
       "\\item 0.000196297808025557\n",
       "\\item 0.000158939213430989\n",
       "\\item 0.000128119864623467\n",
       "\\item 0.00010281859975274\n",
       "\\end{enumerate*}\n"
      ],
      "text/markdown": [
       "1. 0.00010281859975274\n",
       "2. 0.000128119864623467\n",
       "3. 0.000158939213430989\n",
       "4. 0.000196297808025557\n",
       "5. 0.000241362415201286\n",
       "6. 0.000295456560795867\n",
       "7. 0.000360070412079625\n",
       "8. 0.000436868805934235\n",
       "9. 0.000527696772198665\n",
       "10. 0.000634581843689146\n",
       "11. 0.000759732401586496\n",
       "12. 0.000905531282245707\n",
       "13. 0.00107452387424327\n",
       "14. 0.00126939996771002\n",
       "15. 0.00149296868632286\n",
       "16. 0.00174812593958063\n",
       "17. 0.00203781398185903\n",
       "18. 0.00236497285641543\n",
       "19. 0.00273248373634815\n",
       "20. 0.00314310444772477\n",
       "21. 0.00359939776754587\n",
       "22. 0.00410365342328982\n",
       "23. 0.00465780507139435\n",
       "24. 0.00526334388672628\n",
       "25. 0.00592123073937279\n",
       "26. 0.00663180925284991\n",
       "27. 0.0073947223119637\n",
       "28. 0.0082088348017233\n",
       "29. 0.00907216549415187\n",
       "30. 0.00998183104238299\n",
       "31. 0.0109340049783996\n",
       "32. 0.0119238944329694\n",
       "33. 0.0129457369988809\n",
       "34. 0.0139928197416483\n",
       "35. 0.0150575218311416\n",
       "36. 0.0161313816346096\n",
       "37. 0.0172051883935492\n",
       "38. 0.0182690978264686\n",
       "39. 0.0193127701840988\n",
       "40. 0.0203255284640345\n",
       "41. 0.0212965337014902\n",
       "42. 0.02221497352612\n",
       "43. 0.0230702595451282\n",
       "44. 0.0238522286111979\n",
       "45. 0.0245513426868882\n",
       "46. 0.0251588818461995\n",
       "47. 0.0256671249730676\n",
       "48. 0.0260695129316971\n",
       "49. 0.0263607893923878\n",
       "50. 0.0265371150875968\n",
       "51. 0.0265961520267622\n",
       "52. 0.0265371150875968\n",
       "53. 0.0263607893923878\n",
       "54. 0.0260695129316971\n",
       "55. 0.0256671249730676\n",
       "56. 0.0251588818461995\n",
       "57. 0.0245513426868882\n",
       "58. 0.0238522286111979\n",
       "59. 0.0230702595451282\n",
       "60. 0.02221497352612\n",
       "61. 0.0212965337014902\n",
       "62. 0.0203255284640345\n",
       "63. 0.0193127701840988\n",
       "64. 0.0182690978264686\n",
       "65. 0.0172051883935492\n",
       "66. 0.0161313816346096\n",
       "67. 0.0150575218311416\n",
       "68. 0.0139928197416483\n",
       "69. 0.0129457369988809\n",
       "70. 0.0119238944329694\n",
       "71. 0.0109340049783996\n",
       "72. 0.00998183104238299\n",
       "73. 0.00907216549415187\n",
       "74. 0.0082088348017233\n",
       "75. 0.0073947223119637\n",
       "76. 0.00663180925284991\n",
       "77. 0.00592123073937279\n",
       "78. 0.00526334388672628\n",
       "79. 0.00465780507139435\n",
       "80. 0.00410365342328982\n",
       "81. 0.00359939776754587\n",
       "82. 0.00314310444772477\n",
       "83. 0.00273248373634815\n",
       "84. 0.00236497285641543\n",
       "85. 0.00203781398185903\n",
       "86. 0.00174812593958063\n",
       "87. 0.00149296868632286\n",
       "88. 0.00126939996771002\n",
       "89. 0.00107452387424327\n",
       "90. 0.000905531282245707\n",
       "91. 0.000759732401586496\n",
       "92. 0.000634581843689146\n",
       "93. 0.000527696772198665\n",
       "94. 0.000436868805934235\n",
       "95. 0.000360070412079625\n",
       "96. 0.000295456560795867\n",
       "97. 0.000241362415201286\n",
       "98. 0.000196297808025557\n",
       "99. 0.000158939213430989\n",
       "100. 0.000128119864623467\n",
       "101. 0.00010281859975274\n",
       "\n",
       "\n"
      ],
      "text/plain": [
       "  [1] 0.0001028186 0.0001281199 0.0001589392 0.0001962978 0.0002413624\n",
       "  [6] 0.0002954566 0.0003600704 0.0004368688 0.0005276968 0.0006345818\n",
       " [11] 0.0007597324 0.0009055313 0.0010745239 0.0012694000 0.0014929687\n",
       " [16] 0.0017481259 0.0020378140 0.0023649729 0.0027324837 0.0031431044\n",
       " [21] 0.0035993978 0.0041036534 0.0046578051 0.0052633439 0.0059212307\n",
       " [26] 0.0066318093 0.0073947223 0.0082088348 0.0090721655 0.0099818310\n",
       " [31] 0.0109340050 0.0119238944 0.0129457370 0.0139928197 0.0150575218\n",
       " [36] 0.0161313816 0.0172051884 0.0182690978 0.0193127702 0.0203255285\n",
       " [41] 0.0212965337 0.0222149735 0.0230702595 0.0238522286 0.0245513427\n",
       " [46] 0.0251588818 0.0256671250 0.0260695129 0.0263607894 0.0265371151\n",
       " [51] 0.0265961520 0.0265371151 0.0263607894 0.0260695129 0.0256671250\n",
       " [56] 0.0251588818 0.0245513427 0.0238522286 0.0230702595 0.0222149735\n",
       " [61] 0.0212965337 0.0203255285 0.0193127702 0.0182690978 0.0172051884\n",
       " [66] 0.0161313816 0.0150575218 0.0139928197 0.0129457370 0.0119238944\n",
       " [71] 0.0109340050 0.0099818310 0.0090721655 0.0082088348 0.0073947223\n",
       " [76] 0.0066318093 0.0059212307 0.0052633439 0.0046578051 0.0041036534\n",
       " [81] 0.0035993978 0.0031431044 0.0027324837 0.0023649729 0.0020378140\n",
       " [86] 0.0017481259 0.0014929687 0.0012694000 0.0010745239 0.0009055313\n",
       " [91] 0.0007597324 0.0006345818 0.0005276968 0.0004368688 0.0003600704\n",
       " [96] 0.0002954566 0.0002413624 0.0001962978 0.0001589392 0.0001281199\n",
       "[101] 0.0001028186"
      ]
     },
     "metadata": {},
     "output_type": "display_data"
    }
   ],
   "source": [
    "iq.dist"
   ]
  },
  {
   "cell_type": "code",
   "execution_count": 32,
   "metadata": {},
   "outputs": [
    {
     "data": {
      "image/png": "[encoded data removed]",
      "text/plain": [
       "Plot with title \"Histogram of iq.dist\""
      ]
     },
     "metadata": {},
     "output_type": "display_data"
    }
   ],
   "source": [
    "hist (iq.dist)"
   ]
  },
  {
   "cell_type": "code",
   "execution_count": 2,
   "metadata": {},
   "outputs": [
    {
     "data": {
      "text/html": [
       "0.99616961943241"
      ],
      "text/latex": [
       "0.99616961943241"
      ],
      "text/markdown": [
       "0.99616961943241"
      ],
      "text/plain": [
       "[1] 0.9961696"
      ]
     },
     "metadata": {},
     "output_type": "display_data"
    }
   ],
   "source": [
    "pnorm (140, mean=100, sd=15)"
   ]
  },
  {
   "cell_type": "markdown",
   "metadata": {},
   "source": [
    "Definición de QNORM: Corresponde a la función de distribución acumulada inversa. La función qnorm calcula los valores de Xi que delimitan una proporción en la curva de densidad normal.Funcion de cuantiles."
   ]
  },
  {
   "cell_type": "code",
   "execution_count": null,
   "metadata": {},
   "outputs": [],
   "source": []
  },
  {
   "cell_type": "code",
   "execution_count": null,
   "metadata": {},
   "outputs": [],
   "source": []
  },
  {
   "cell_type": "code",
   "execution_count": null,
   "metadata": {},
   "outputs": [],
   "source": []
  },
  {
   "cell_type": "code",
   "execution_count": null,
   "metadata": {},
   "outputs": [],
   "source": []
  },
  {
   "cell_type": "code",
   "execution_count": null,
   "metadata": {},
   "outputs": [],
   "source": []
  }
 ],
 "metadata": {
  "kernelspec": {
   "display_name": "R",
   "language": "R",
   "name": "ir"
  },
  "language_info": {
   "codemirror_mode": "r",
   "file_extension": ".r",
   "mimetype": "text/x-r-source",
   "name": "R",
   "pygments_lexer": "r",
   "version": "3.6.1"
  }
 },
 "nbformat": 4,
 "nbformat_minor": 2
}
