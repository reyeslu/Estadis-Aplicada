{
 "cells": [
  {
   "cell_type": "code",
   "execution_count": 1,
   "metadata": {},
   "outputs": [
    {
     "data": {
      "text/html": [
       "<ol class=list-inline>\n",
       "\t<li>941.268394002691</li>\n",
       "\t<li>951.137760234997</li>\n",
       "\t<li>982.059007836506</li>\n",
       "\t<li>993.935141479596</li>\n",
       "\t<li>978.379991347902</li>\n",
       "\t<li>975.151303038001</li>\n",
       "\t<li>973.322858195752</li>\n",
       "\t<li>969.502884638496</li>\n",
       "\t<li>961.991120269522</li>\n",
       "\t<li>964.429483679123</li>\n",
       "</ol>\n"
      ],
      "text/latex": [
       "\\begin{enumerate*}\n",
       "\\item 941.268394002691\n",
       "\\item 951.137760234997\n",
       "\\item 982.059007836506\n",
       "\\item 993.935141479596\n",
       "\\item 978.379991347902\n",
       "\\item 975.151303038001\n",
       "\\item 973.322858195752\n",
       "\\item 969.502884638496\n",
       "\\item 961.991120269522\n",
       "\\item 964.429483679123\n",
       "\\end{enumerate*}\n"
      ],
      "text/markdown": [
       "1. 941.268394002691\n",
       "2. 951.137760234997\n",
       "3. 982.059007836506\n",
       "4. 993.935141479596\n",
       "5. 978.379991347902\n",
       "6. 975.151303038001\n",
       "7. 973.322858195752\n",
       "8. 969.502884638496\n",
       "9. 961.991120269522\n",
       "10. 964.429483679123\n",
       "\n",
       "\n"
      ],
      "text/plain": [
       " [1] 941.2684 951.1378 982.0590 993.9351 978.3800 975.1513 973.3229 969.5029\n",
       " [9] 961.9911 964.4295"
      ]
     },
     "metadata": {},
     "output_type": "display_data"
    }
   ],
   "source": [
    "runif(10,900,1000)"
   ]
  },
  {
   "cell_type": "code",
   "execution_count": 6,
   "metadata": {},
   "outputs": [],
   "source": [
    "set.seed(123)"
   ]
  },
  {
   "cell_type": "code",
   "execution_count": 7,
   "metadata": {},
   "outputs": [
    {
     "data": {
      "text/html": [
       "<ol class=list-inline>\n",
       "\t<li>928.757752012461</li>\n",
       "\t<li>978.830513544381</li>\n",
       "\t<li>940.89769218117</li>\n",
       "\t<li>988.301740400493</li>\n",
       "\t<li>994.046728429385</li>\n",
       "\t<li>904.555649938993</li>\n",
       "\t<li>952.8105488047</li>\n",
       "\t<li>989.241904439405</li>\n",
       "\t<li>955.143501446582</li>\n",
       "\t<li>945.661473530345</li>\n",
       "</ol>\n"
      ],
      "text/latex": [
       "\\begin{enumerate*}\n",
       "\\item 928.757752012461\n",
       "\\item 978.830513544381\n",
       "\\item 940.89769218117\n",
       "\\item 988.301740400493\n",
       "\\item 994.046728429385\n",
       "\\item 904.555649938993\n",
       "\\item 952.8105488047\n",
       "\\item 989.241904439405\n",
       "\\item 955.143501446582\n",
       "\\item 945.661473530345\n",
       "\\end{enumerate*}\n"
      ],
      "text/markdown": [
       "1. 928.757752012461\n",
       "2. 978.830513544381\n",
       "3. 940.89769218117\n",
       "4. 988.301740400493\n",
       "5. 994.046728429385\n",
       "6. 904.555649938993\n",
       "7. 952.8105488047\n",
       "8. 989.241904439405\n",
       "9. 955.143501446582\n",
       "10. 945.661473530345\n",
       "\n",
       "\n"
      ],
      "text/plain": [
       " [1] 928.7578 978.8305 940.8977 988.3017 994.0467 904.5556 952.8105 989.2419\n",
       " [9] 955.1435 945.6615"
      ]
     },
     "metadata": {},
     "output_type": "display_data"
    }
   ],
   "source": [
    "runif(10,900,1000)"
   ]
  },
  {
   "cell_type": "code",
   "execution_count": 10,
   "metadata": {},
   "outputs": [],
   "source": [
    "x <- c(0.00096264341890935,0.179147941609448,0.939454629989087,0.413966226584262,0.530370201696814,0.931979918355113,0.786487794381794,0.500360174803231,0.553457917903298,0.967226200721798,0.170755531252714,0.888213764358411,0.20873757182096,0.252369594877758,0.575781110476601,0.153123780224996,0.551374241500801,0.946876903971134,0.160125042852073,0.221595214783026,0.350774858310248,0.473043620341012,0.444127071389988,0.443688851522137,0.0785275325544772,0.812239643098898,0.311681563179792,0.432032362759128,0.167920892670714,0.246443116686513)"
   ]
  },
  {
   "cell_type": "code",
   "execution_count": 12,
   "metadata": {},
   "outputs": [
    {
     "data": {
      "image/png": "[encoded data removed]",
      "text/plain": [
       "Plot with title \"Histogram of x\""
      ]
     },
     "metadata": {},
     "output_type": "display_data"
    }
   ],
   "source": [
    "options(repr.plot.width=6, repr.plot.height=6/1.6801)\n",
    "hist(x)"
   ]
  },
  {
   "cell_type": "code",
   "execution_count": 14,
   "metadata": {},
   "outputs": [
    {
     "data": {
      "image/png": "[encoded data removed]",
      "text/plain": [
       "Plot with title \"Histogram of runif(10000)\""
      ]
     },
     "metadata": {},
     "output_type": "display_data"
    }
   ],
   "source": [
    "hist(runif(10000))"
   ]
  },
  {
   "cell_type": "code",
   "execution_count": null,
   "metadata": {},
   "outputs": [],
   "source": [
    "Simulacion del melate 6 numeros"
   ]
  },
  {
   "cell_type": "code",
   "execution_count": 17,
   "metadata": {},
   "outputs": [],
   "source": [
    "m <- runif(6*2*52*7,1,44)"
   ]
  },
  {
   "cell_type": "code",
   "execution_count": 18,
   "metadata": {},
   "outputs": [
    {
     "data": {
      "image/png": "[encoded data removed]",
      "text/plain": [
       "Plot with title \"Histogram of m\""
      ]
     },
     "metadata": {},
     "output_type": "display_data"
    }
   ],
   "source": [
    "hist(m)"
   ]
  },
  {
   "cell_type": "code",
   "execution_count": null,
   "metadata": {},
   "outputs": [],
   "source": []
  },
  {
   "cell_type": "code",
   "execution_count": null,
   "metadata": {},
   "outputs": [],
   "source": []
  }
 ],
 "metadata": {
  "kernelspec": {
   "display_name": "R",
   "language": "R",
   "name": "ir"
  },
  "language_info": {
   "codemirror_mode": "r",
   "file_extension": ".r",
   "mimetype": "text/x-r-source",
   "name": "R",
   "pygments_lexer": "r",
   "version": "3.6.1"
  }
 },
 "nbformat": 4,
 "nbformat_minor": 2
}
