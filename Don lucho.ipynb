{
 "cells": [
  {
   "cell_type": "markdown",
   "metadata": {},
   "source": [
    "# MENDIGO DON LUCHO  "
   ]
  },
  {
   "cell_type": "markdown",
   "metadata": {},
   "source": [
    "## CARGA DE UN CSV"
   ]
  },
  {
   "cell_type": "code",
   "execution_count": 22,
   "metadata": {},
   "outputs": [],
   "source": [
    "datos <- read.csv(\"examen medicina.csv\")"
   ]
  },
  {
   "cell_type": "markdown",
   "metadata": {},
   "source": [
    "exploracion de datos"
   ]
  },
  {
   "cell_type": "code",
   "execution_count": 23,
   "metadata": {},
   "outputs": [
    {
     "data": {
      "text/html": [
       "<table>\n",
       "<thead><tr><th scope=col>ENTIDAD.FEDERATIVA</th><th scope=col>FACULTAD.O.ESCUELA.DE.MEDICINA</th><th scope=col>SUSTENTANTES</th><th scope=col>SELECCIONADOS</th><th scope=col>PROMEDIO.GENERAL</th><th scope=col>AGNO</th><th scope=col>X.</th></tr></thead>\n",
       "<tbody>\n",
       "\t<tr><td>AGUASCALIENTES                                </td><td>UNIVERSIDAD CUAHUTEMOC                        </td><td> 7                                            </td><td> 0                                            </td><td>57.746                                        </td><td>2013                                          </td><td>0                                             </td></tr>\n",
       "\t<tr><td>AGUASCALIENTES                                </td><td>UNIVERSIDAD CUAHUTEMOC                        </td><td>15                                            </td><td> 1                                            </td><td>58.518                                        </td><td>2014                                          </td><td>6.666666667                                   </td></tr>\n",
       "\t<tr><td>AGUASCALIENTES                                </td><td>UNIVERSIDAD CUAHUTEMOC                        </td><td>59                                            </td><td> 8                                            </td><td>59.141                                        </td><td>2015                                          </td><td>13.55932203                                   </td></tr>\n",
       "\t<tr><td>AGUASCALIENTES                                </td><td>UNIVERSIDAD CUAUHTEMOC   CAMPUS AGUASCALIENTES</td><td>72                                            </td><td> 9                                            </td><td>63.810                                        </td><td>2017                                          </td><td>12.5                                          </td></tr>\n",
       "\t<tr><td>AGUASCALIENTES                                </td><td>UNIVERSIDAD CUAUHTEMOC   CAMPUS AGUASCALIENTES</td><td>79                                            </td><td>20                                            </td><td>65.120                                        </td><td>2018                                          </td><td>25.3164557                                    </td></tr>\n",
       "\t<tr><td>AGUASCALIENTES                                </td><td>UNIVERSIDAD CUAHUTEMOC                        </td><td>96                                            </td><td>22                                            </td><td>62.539                                        </td><td>2016                                          </td><td>22.91666667                                   </td></tr>\n",
       "</tbody>\n",
       "</table>\n"
      ],
      "text/latex": [
       "\\begin{tabular}{r|lllllll}\n",
       " ENTIDAD.FEDERATIVA & FACULTAD.O.ESCUELA.DE.MEDICINA & SUSTENTANTES & SELECCIONADOS & PROMEDIO.GENERAL & AGNO & X.\\\\\n",
       "\\hline\n",
       "\t AGUASCALIENTES                                 & UNIVERSIDAD CUAHUTEMOC                         &  7                                             &  0                                             & 57.746                                         & 2013                                           & 0                                             \\\\\n",
       "\t AGUASCALIENTES                                 & UNIVERSIDAD CUAHUTEMOC                         & 15                                             &  1                                             & 58.518                                         & 2014                                           & 6.666666667                                   \\\\\n",
       "\t AGUASCALIENTES                                 & UNIVERSIDAD CUAHUTEMOC                         & 59                                             &  8                                             & 59.141                                         & 2015                                           & 13.55932203                                   \\\\\n",
       "\t AGUASCALIENTES                                 & UNIVERSIDAD CUAUHTEMOC   CAMPUS AGUASCALIENTES & 72                                             &  9                                             & 63.810                                         & 2017                                           & 12.5                                          \\\\\n",
       "\t AGUASCALIENTES                                 & UNIVERSIDAD CUAUHTEMOC   CAMPUS AGUASCALIENTES & 79                                             & 20                                             & 65.120                                         & 2018                                           & 25.3164557                                    \\\\\n",
       "\t AGUASCALIENTES                                 & UNIVERSIDAD CUAHUTEMOC                         & 96                                             & 22                                             & 62.539                                         & 2016                                           & 22.91666667                                   \\\\\n",
       "\\end{tabular}\n"
      ],
      "text/markdown": [
       "\n",
       "| ENTIDAD.FEDERATIVA | FACULTAD.O.ESCUELA.DE.MEDICINA | SUSTENTANTES | SELECCIONADOS | PROMEDIO.GENERAL | AGNO | X. |\n",
       "|---|---|---|---|---|---|---|\n",
       "| AGUASCALIENTES                                 | UNIVERSIDAD CUAHUTEMOC                         |  7                                             |  0                                             | 57.746                                         | 2013                                           | 0                                              |\n",
       "| AGUASCALIENTES                                 | UNIVERSIDAD CUAHUTEMOC                         | 15                                             |  1                                             | 58.518                                         | 2014                                           | 6.666666667                                    |\n",
       "| AGUASCALIENTES                                 | UNIVERSIDAD CUAHUTEMOC                         | 59                                             |  8                                             | 59.141                                         | 2015                                           | 13.55932203                                    |\n",
       "| AGUASCALIENTES                                 | UNIVERSIDAD CUAUHTEMOC   CAMPUS AGUASCALIENTES | 72                                             |  9                                             | 63.810                                         | 2017                                           | 12.5                                           |\n",
       "| AGUASCALIENTES                                 | UNIVERSIDAD CUAUHTEMOC   CAMPUS AGUASCALIENTES | 79                                             | 20                                             | 65.120                                         | 2018                                           | 25.3164557                                     |\n",
       "| AGUASCALIENTES                                 | UNIVERSIDAD CUAHUTEMOC                         | 96                                             | 22                                             | 62.539                                         | 2016                                           | 22.91666667                                    |\n",
       "\n"
      ],
      "text/plain": [
       "  ENTIDAD.FEDERATIVA FACULTAD.O.ESCUELA.DE.MEDICINA                \n",
       "1 AGUASCALIENTES     UNIVERSIDAD CUAHUTEMOC                        \n",
       "2 AGUASCALIENTES     UNIVERSIDAD CUAHUTEMOC                        \n",
       "3 AGUASCALIENTES     UNIVERSIDAD CUAHUTEMOC                        \n",
       "4 AGUASCALIENTES     UNIVERSIDAD CUAUHTEMOC   CAMPUS AGUASCALIENTES\n",
       "5 AGUASCALIENTES     UNIVERSIDAD CUAUHTEMOC   CAMPUS AGUASCALIENTES\n",
       "6 AGUASCALIENTES     UNIVERSIDAD CUAHUTEMOC                        \n",
       "  SUSTENTANTES SELECCIONADOS PROMEDIO.GENERAL AGNO X.         \n",
       "1  7            0            57.746           2013 0          \n",
       "2 15            1            58.518           2014 6.666666667\n",
       "3 59            8            59.141           2015 13.55932203\n",
       "4 72            9            63.810           2017 12.5       \n",
       "5 79           20            65.120           2018 25.3164557 \n",
       "6 96           22            62.539           2016 22.91666667"
      ]
     },
     "metadata": {},
     "output_type": "display_data"
    }
   ],
   "source": [
    "head (datos)"
   ]
  },
  {
   "cell_type": "markdown",
   "metadata": {},
   "source": [
    "$$ efi = \\dfrac{seleccionados}{sustentados}$$"
   ]
  },
  {
   "cell_type": "code",
   "execution_count": 62,
   "metadata": {},
   "outputs": [],
   "source": [
    "datos$efi <- datos$SELECCIONADOS / datos$SUSTENTANTES"
   ]
  },
  {
   "cell_type": "code",
   "execution_count": 63,
   "metadata": {},
   "outputs": [
    {
     "data": {
      "text/html": [
       "<ol class=list-inline>\n",
       "\t<li>0</li>\n",
       "\t<li>0.0666666666666667</li>\n",
       "\t<li>0.135593220338983</li>\n",
       "\t<li>0.125</li>\n",
       "\t<li>0.253164556962025</li>\n",
       "\t<li>0.229166666666667</li>\n",
       "</ol>\n"
      ],
      "text/latex": [
       "\\begin{enumerate*}\n",
       "\\item 0\n",
       "\\item 0.0666666666666667\n",
       "\\item 0.135593220338983\n",
       "\\item 0.125\n",
       "\\item 0.253164556962025\n",
       "\\item 0.229166666666667\n",
       "\\end{enumerate*}\n"
      ],
      "text/markdown": [
       "1. 0\n",
       "2. 0.0666666666666667\n",
       "3. 0.135593220338983\n",
       "4. 0.125\n",
       "5. 0.253164556962025\n",
       "6. 0.229166666666667\n",
       "\n",
       "\n"
      ],
      "text/plain": [
       "[1] 0.00000000 0.06666667 0.13559322 0.12500000 0.25316456 0.22916667"
      ]
     },
     "metadata": {},
     "output_type": "display_data"
    }
   ],
   "source": [
    "head (efi)"
   ]
  },
  {
   "cell_type": "code",
   "execution_count": 27,
   "metadata": {},
   "outputs": [
    {
     "data": {
      "text/html": [
       "1378"
      ],
      "text/latex": [
       "1378"
      ],
      "text/markdown": [
       "1378"
      ],
      "text/plain": [
       "[1] 1378"
      ]
     },
     "metadata": {},
     "output_type": "display_data"
    }
   ],
   "source": [
    "length(efi)"
   ]
  },
  {
   "cell_type": "code",
   "execution_count": 28,
   "metadata": {},
   "outputs": [
    {
     "data": {
      "image/png": "[encoded data removed]",
      "text/plain": [
       "plot without title"
      ]
     },
     "metadata": {},
     "output_type": "display_data"
    }
   ],
   "source": [
    "boxplot (efi,horizontal=T)"
   ]
  },
  {
   "cell_type": "code",
   "execution_count": 31,
   "metadata": {},
   "outputs": [
    {
     "data": {
      "text/plain": [
       "   Min. 1st Qu.  Median    Mean 3rd Qu.    Max.    NA's \n",
       " 0.0000  0.1429  0.2156  0.2426  0.3075  1.0000      11 "
      ]
     },
     "metadata": {},
     "output_type": "display_data"
    }
   ],
   "source": [
    "summary(efi)"
   ]
  },
  {
   "cell_type": "markdown",
   "metadata": {},
   "source": [
    "como es de todos sabidos cuando la media y la mediana no coinciden la distribucion de los datos tiene sesgo, como lo miestra el siguiente histograma"
   ]
  },
  {
   "cell_type": "code",
   "execution_count": 32,
   "metadata": {},
   "outputs": [],
   "source": [
    "options (repr.plot.width=8, repr.plot.height=8/1.6801)"
   ]
  },
  {
   "cell_type": "code",
   "execution_count": 35,
   "metadata": {},
   "outputs": [
    {
     "data": {
      "image/png": "[encoded data removed]",
      "text/plain": [
       "Plot with title \"frecuencia de eficiencias\""
      ]
     },
     "metadata": {},
     "output_type": "display_data"
    }
   ],
   "source": [
    "hist(efi, main=\"frecuencia de eficiencias\")"
   ]
  },
  {
   "cell_type": "code",
   "execution_count": 36,
   "metadata": {},
   "outputs": [
    {
     "data": {
      "text/html": [
       "0.215563506261181"
      ],
      "text/latex": [
       "0.215563506261181"
      ],
      "text/markdown": [
       "0.215563506261181"
      ],
      "text/plain": [
       "[1] 0.2155635"
      ]
     },
     "metadata": {},
     "output_type": "display_data"
    }
   ],
   "source": [
    "median (efi,na.rm = T)"
   ]
  },
  {
   "cell_type": "code",
   "execution_count": 37,
   "metadata": {},
   "outputs": [
    {
     "data": {
      "text/html": [
       "0.784"
      ],
      "text/latex": [
       "0.784"
      ],
      "text/markdown": [
       "0.784"
      ],
      "text/plain": [
       "[1] 0.784"
      ]
     },
     "metadata": {},
     "output_type": "display_data"
    }
   ],
   "source": [
    "1-0.216"
   ]
  },
  {
   "cell_type": "code",
   "execution_count": 38,
   "metadata": {},
   "outputs": [
    {
     "data": {
      "text/html": [
       "<table>\n",
       "<thead><tr><th scope=col>ENTIDAD.FEDERATIVA</th><th scope=col>FACULTAD.O.ESCUELA.DE.MEDICINA</th><th scope=col>SUSTENTANTES</th><th scope=col>SELECCIONADOS</th><th scope=col>PROMEDIO.GENERAL</th><th scope=col>AGNO</th><th scope=col>X.</th></tr></thead>\n",
       "<tbody>\n",
       "\t<tr><td>AGUASCALIENTES                                </td><td>UNIVERSIDAD CUAHUTEMOC                        </td><td> 7                                            </td><td> 0                                            </td><td>57.746                                        </td><td>2013                                          </td><td>0                                             </td></tr>\n",
       "\t<tr><td>AGUASCALIENTES                                </td><td>UNIVERSIDAD CUAHUTEMOC                        </td><td>15                                            </td><td> 1                                            </td><td>58.518                                        </td><td>2014                                          </td><td>6.666666667                                   </td></tr>\n",
       "\t<tr><td>AGUASCALIENTES                                </td><td>UNIVERSIDAD CUAHUTEMOC                        </td><td>59                                            </td><td> 8                                            </td><td>59.141                                        </td><td>2015                                          </td><td>13.55932203                                   </td></tr>\n",
       "\t<tr><td>AGUASCALIENTES                                </td><td>UNIVERSIDAD CUAUHTEMOC   CAMPUS AGUASCALIENTES</td><td>72                                            </td><td> 9                                            </td><td>63.810                                        </td><td>2017                                          </td><td>12.5                                          </td></tr>\n",
       "\t<tr><td>AGUASCALIENTES                                </td><td>UNIVERSIDAD CUAUHTEMOC   CAMPUS AGUASCALIENTES</td><td>79                                            </td><td>20                                            </td><td>65.120                                        </td><td>2018                                          </td><td>25.3164557                                    </td></tr>\n",
       "\t<tr><td>AGUASCALIENTES                                </td><td>UNIVERSIDAD CUAHUTEMOC                        </td><td>96                                            </td><td>22                                            </td><td>62.539                                        </td><td>2016                                          </td><td>22.91666667                                   </td></tr>\n",
       "</tbody>\n",
       "</table>\n"
      ],
      "text/latex": [
       "\\begin{tabular}{r|lllllll}\n",
       " ENTIDAD.FEDERATIVA & FACULTAD.O.ESCUELA.DE.MEDICINA & SUSTENTANTES & SELECCIONADOS & PROMEDIO.GENERAL & AGNO & X.\\\\\n",
       "\\hline\n",
       "\t AGUASCALIENTES                                 & UNIVERSIDAD CUAHUTEMOC                         &  7                                             &  0                                             & 57.746                                         & 2013                                           & 0                                             \\\\\n",
       "\t AGUASCALIENTES                                 & UNIVERSIDAD CUAHUTEMOC                         & 15                                             &  1                                             & 58.518                                         & 2014                                           & 6.666666667                                   \\\\\n",
       "\t AGUASCALIENTES                                 & UNIVERSIDAD CUAHUTEMOC                         & 59                                             &  8                                             & 59.141                                         & 2015                                           & 13.55932203                                   \\\\\n",
       "\t AGUASCALIENTES                                 & UNIVERSIDAD CUAUHTEMOC   CAMPUS AGUASCALIENTES & 72                                             &  9                                             & 63.810                                         & 2017                                           & 12.5                                          \\\\\n",
       "\t AGUASCALIENTES                                 & UNIVERSIDAD CUAUHTEMOC   CAMPUS AGUASCALIENTES & 79                                             & 20                                             & 65.120                                         & 2018                                           & 25.3164557                                    \\\\\n",
       "\t AGUASCALIENTES                                 & UNIVERSIDAD CUAHUTEMOC                         & 96                                             & 22                                             & 62.539                                         & 2016                                           & 22.91666667                                   \\\\\n",
       "\\end{tabular}\n"
      ],
      "text/markdown": [
       "\n",
       "| ENTIDAD.FEDERATIVA | FACULTAD.O.ESCUELA.DE.MEDICINA | SUSTENTANTES | SELECCIONADOS | PROMEDIO.GENERAL | AGNO | X. |\n",
       "|---|---|---|---|---|---|---|\n",
       "| AGUASCALIENTES                                 | UNIVERSIDAD CUAHUTEMOC                         |  7                                             |  0                                             | 57.746                                         | 2013                                           | 0                                              |\n",
       "| AGUASCALIENTES                                 | UNIVERSIDAD CUAHUTEMOC                         | 15                                             |  1                                             | 58.518                                         | 2014                                           | 6.666666667                                    |\n",
       "| AGUASCALIENTES                                 | UNIVERSIDAD CUAHUTEMOC                         | 59                                             |  8                                             | 59.141                                         | 2015                                           | 13.55932203                                    |\n",
       "| AGUASCALIENTES                                 | UNIVERSIDAD CUAUHTEMOC   CAMPUS AGUASCALIENTES | 72                                             |  9                                             | 63.810                                         | 2017                                           | 12.5                                           |\n",
       "| AGUASCALIENTES                                 | UNIVERSIDAD CUAUHTEMOC   CAMPUS AGUASCALIENTES | 79                                             | 20                                             | 65.120                                         | 2018                                           | 25.3164557                                     |\n",
       "| AGUASCALIENTES                                 | UNIVERSIDAD CUAHUTEMOC                         | 96                                             | 22                                             | 62.539                                         | 2016                                           | 22.91666667                                    |\n",
       "\n"
      ],
      "text/plain": [
       "  ENTIDAD.FEDERATIVA FACULTAD.O.ESCUELA.DE.MEDICINA                \n",
       "1 AGUASCALIENTES     UNIVERSIDAD CUAHUTEMOC                        \n",
       "2 AGUASCALIENTES     UNIVERSIDAD CUAHUTEMOC                        \n",
       "3 AGUASCALIENTES     UNIVERSIDAD CUAHUTEMOC                        \n",
       "4 AGUASCALIENTES     UNIVERSIDAD CUAUHTEMOC   CAMPUS AGUASCALIENTES\n",
       "5 AGUASCALIENTES     UNIVERSIDAD CUAUHTEMOC   CAMPUS AGUASCALIENTES\n",
       "6 AGUASCALIENTES     UNIVERSIDAD CUAHUTEMOC                        \n",
       "  SUSTENTANTES SELECCIONADOS PROMEDIO.GENERAL AGNO X.         \n",
       "1  7            0            57.746           2013 0          \n",
       "2 15            1            58.518           2014 6.666666667\n",
       "3 59            8            59.141           2015 13.55932203\n",
       "4 72            9            63.810           2017 12.5       \n",
       "5 79           20            65.120           2018 25.3164557 \n",
       "6 96           22            62.539           2016 22.91666667"
      ]
     },
     "metadata": {},
     "output_type": "display_data"
    }
   ],
   "source": [
    "head (datos)"
   ]
  },
  {
   "cell_type": "code",
   "execution_count": 51,
   "metadata": {},
   "outputs": [
    {
     "data": {
      "text/html": [
       "<table>\n",
       "<thead><tr><th scope=col>ENTIDAD.FEDERATIVA</th><th scope=col>FACULTAD.O.ESCUELA.DE.MEDICINA</th><th scope=col>SUSTENTANTES</th><th scope=col>SELECCIONADOS</th><th scope=col>PROMEDIO.GENERAL</th><th scope=col>AGNO</th><th scope=col>X.</th></tr></thead>\n",
       "<tbody>\n",
       "</tbody>\n",
       "</table>\n"
      ],
      "text/latex": [
       "\\begin{tabular}{r|lllllll}\n",
       " ENTIDAD.FEDERATIVA & FACULTAD.O.ESCUELA.DE.MEDICINA & SUSTENTANTES & SELECCIONADOS & PROMEDIO.GENERAL & AGNO & X.\\\\\n",
       "\\hline\n",
       "\\end{tabular}\n"
      ],
      "text/markdown": [
       "\n",
       "| ENTIDAD.FEDERATIVA | FACULTAD.O.ESCUELA.DE.MEDICINA | SUSTENTANTES | SELECCIONADOS | PROMEDIO.GENERAL | AGNO | X. |\n",
       "|---|---|---|---|---|---|---|\n",
       "\n"
      ],
      "text/plain": [
       "     ENTIDAD.FEDERATIVA FACULTAD.O.ESCUELA.DE.MEDICINA SUSTENTANTES\n",
       "     SELECCIONADOS PROMEDIO.GENERAL AGNO X."
      ]
     },
     "metadata": {},
     "output_type": "display_data"
    }
   ],
   "source": [
    "datos[is.na(datos$efi),]"
   ]
  },
  {
   "cell_type": "markdown",
   "metadata": {},
   "source": [
    "Modificamos los datos, quitando los renglones"
   ]
  },
  {
   "cell_type": "code",
   "execution_count": 54,
   "metadata": {},
   "outputs": [],
   "source": [
    "datos <- datos[!is.na(datos$efi),  ]"
   ]
  },
  {
   "cell_type": "code",
   "execution_count": 58,
   "metadata": {},
   "outputs": [],
   "source": [
    "p <- round(median(datos$efi),3)"
   ]
  },
  {
   "cell_type": "code",
   "execution_count": 59,
   "metadata": {},
   "outputs": [
    {
     "data": {
      "text/html": [
       "&lt;NA&gt;"
      ],
      "text/latex": [
       "<NA>"
      ],
      "text/markdown": [
       "&lt;NA&gt;"
      ],
      "text/plain": [
       "[1] NA"
      ]
     },
     "metadata": {},
     "output_type": "display_data"
    }
   ],
   "source": [
    "p"
   ]
  },
  {
   "cell_type": "code",
   "execution_count": 60,
   "metadata": {},
   "outputs": [],
   "source": [
    "q<- 1-p"
   ]
  },
  {
   "cell_type": "code",
   "execution_count": null,
   "metadata": {},
   "outputs": [],
   "source": [
    "q"
   ]
  },
  {
   "cell_type": "code",
   "execution_count": null,
   "metadata": {},
   "outputs": [],
   "source": [
    "k=1\n",
    "1-(0.784)**k"
   ]
  }
 ],
 "metadata": {
  "kernelspec": {
   "display_name": "R",
   "language": "R",
   "name": "ir"
  },
  "language_info": {
   "codemirror_mode": "r",
   "file_extension": ".r",
   "mimetype": "text/x-r-source",
   "name": "R",
   "pygments_lexer": "r",
   "version": "3.6.1"
  }
 },
 "nbformat": 4,
 "nbformat_minor": 2
}
