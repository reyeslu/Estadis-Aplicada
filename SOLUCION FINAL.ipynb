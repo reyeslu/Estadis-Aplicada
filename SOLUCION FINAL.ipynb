{
 "cells": [
  {
   "cell_type": "code",
   "execution_count": 4,
   "metadata": {},
   "outputs": [
    {
     "data": {
      "text/html": [
       "<table>\n",
       "<thead><tr><th scope=col>ENTIDAD.FEDERATIVA</th><th scope=col>FACULTAD.O.ESCUELA.DE.MEDICINA</th><th scope=col>SUSTENTANTES</th><th scope=col>SELECCIONADOS</th><th scope=col>PROMEDIO.GENERAL</th><th scope=col>AGNO</th><th scope=col>X.</th></tr></thead>\n",
       "<tbody>\n",
       "\t<tr><td>AGUASCALIENTES        </td><td>UNIVERSIDAD CUAHUTEMOC</td><td> 7                    </td><td>0                     </td><td>57.746                </td><td>2013                  </td><td>0                     </td></tr>\n",
       "\t<tr><td>AGUASCALIENTES        </td><td>UNIVERSIDAD CUAHUTEMOC</td><td>15                    </td><td>1                     </td><td>58.518                </td><td>2014                  </td><td>6.666666667           </td></tr>\n",
       "\t<tr><td>AGUASCALIENTES        </td><td>UNIVERSIDAD CUAHUTEMOC</td><td>59                    </td><td>8                     </td><td>59.141                </td><td>2015                  </td><td>13.55932203           </td></tr>\n",
       "</tbody>\n",
       "</table>\n"
      ],
      "text/latex": [
       "\\begin{tabular}{r|lllllll}\n",
       " ENTIDAD.FEDERATIVA & FACULTAD.O.ESCUELA.DE.MEDICINA & SUSTENTANTES & SELECCIONADOS & PROMEDIO.GENERAL & AGNO & X.\\\\\n",
       "\\hline\n",
       "\t AGUASCALIENTES         & UNIVERSIDAD CUAHUTEMOC &  7                     & 0                      & 57.746                 & 2013                   & 0                     \\\\\n",
       "\t AGUASCALIENTES         & UNIVERSIDAD CUAHUTEMOC & 15                     & 1                      & 58.518                 & 2014                   & 6.666666667           \\\\\n",
       "\t AGUASCALIENTES         & UNIVERSIDAD CUAHUTEMOC & 59                     & 8                      & 59.141                 & 2015                   & 13.55932203           \\\\\n",
       "\\end{tabular}\n"
      ],
      "text/markdown": [
       "\n",
       "| ENTIDAD.FEDERATIVA | FACULTAD.O.ESCUELA.DE.MEDICINA | SUSTENTANTES | SELECCIONADOS | PROMEDIO.GENERAL | AGNO | X. |\n",
       "|---|---|---|---|---|---|---|\n",
       "| AGUASCALIENTES         | UNIVERSIDAD CUAHUTEMOC |  7                     | 0                      | 57.746                 | 2013                   | 0                      |\n",
       "| AGUASCALIENTES         | UNIVERSIDAD CUAHUTEMOC | 15                     | 1                      | 58.518                 | 2014                   | 6.666666667            |\n",
       "| AGUASCALIENTES         | UNIVERSIDAD CUAHUTEMOC | 59                     | 8                      | 59.141                 | 2015                   | 13.55932203            |\n",
       "\n"
      ],
      "text/plain": [
       "  ENTIDAD.FEDERATIVA FACULTAD.O.ESCUELA.DE.MEDICINA SUSTENTANTES SELECCIONADOS\n",
       "1 AGUASCALIENTES     UNIVERSIDAD CUAHUTEMOC          7           0            \n",
       "2 AGUASCALIENTES     UNIVERSIDAD CUAHUTEMOC         15           1            \n",
       "3 AGUASCALIENTES     UNIVERSIDAD CUAHUTEMOC         59           8            \n",
       "  PROMEDIO.GENERAL AGNO X.         \n",
       "1 57.746           2013 0          \n",
       "2 58.518           2014 6.666666667\n",
       "3 59.141           2015 13.55932203"
      ]
     },
     "metadata": {},
     "output_type": "display_data"
    }
   ],
   "source": [
    "d <- read.csv(\"examen medicina.csv\")\n",
    "head(d,3)"
   ]
  },
  {
   "cell_type": "code",
   "execution_count": 5,
   "metadata": {},
   "outputs": [],
   "source": [
    "d$eficiencia <- d$SELECCIONADOS / d$SUSTENTANTES"
   ]
  },
  {
   "cell_type": "code",
   "execution_count": 6,
   "metadata": {},
   "outputs": [
    {
     "data": {
      "text/plain": [
       "   Min. 1st Qu.  Median    Mean 3rd Qu.    Max.    NA's \n",
       " 0.0000  0.1429  0.2156  0.2426  0.3075  1.0000      11 "
      ]
     },
     "metadata": {},
     "output_type": "display_data"
    }
   ],
   "source": [
    "summary (d$eficiencia)"
   ]
  },
  {
   "cell_type": "code",
   "execution_count": 7,
   "metadata": {},
   "outputs": [
    {
     "data": {
      "text/html": [
       "<table>\n",
       "<thead><tr><th scope=col>ENTIDAD.FEDERATIVA</th><th scope=col>FACULTAD.O.ESCUELA.DE.MEDICINA</th><th scope=col>SUSTENTANTES</th><th scope=col>SELECCIONADOS</th><th scope=col>PROMEDIO.GENERAL</th><th scope=col>AGNO</th><th scope=col>X.</th><th scope=col>eficiencia</th></tr></thead>\n",
       "<tbody>\n",
       "\t<tr><td>AGUASCALIENTES                                </td><td>UNIVERSIDAD CUAHUTEMOC                        </td><td> 7                                            </td><td> 0                                            </td><td>57.746                                        </td><td>2013                                          </td><td>0                                             </td><td>0.00000000                                    </td></tr>\n",
       "\t<tr><td>AGUASCALIENTES                                </td><td>UNIVERSIDAD CUAHUTEMOC                        </td><td>15                                            </td><td> 1                                            </td><td>58.518                                        </td><td>2014                                          </td><td>6.666666667                                   </td><td>0.06666667                                    </td></tr>\n",
       "\t<tr><td>AGUASCALIENTES                                </td><td>UNIVERSIDAD CUAHUTEMOC                        </td><td>59                                            </td><td> 8                                            </td><td>59.141                                        </td><td>2015                                          </td><td>13.55932203                                   </td><td>0.13559322                                    </td></tr>\n",
       "\t<tr><td>AGUASCALIENTES                                </td><td>UNIVERSIDAD CUAUHTEMOC   CAMPUS AGUASCALIENTES</td><td>72                                            </td><td> 9                                            </td><td>63.810                                        </td><td>2017                                          </td><td>12.5                                          </td><td>0.12500000                                    </td></tr>\n",
       "\t<tr><td>AGUASCALIENTES                                </td><td>UNIVERSIDAD CUAUHTEMOC   CAMPUS AGUASCALIENTES</td><td>79                                            </td><td>20                                            </td><td>65.120                                        </td><td>2018                                          </td><td>25.3164557                                    </td><td>0.25316456                                    </td></tr>\n",
       "\t<tr><td>AGUASCALIENTES                                </td><td>UNIVERSIDAD CUAHUTEMOC                        </td><td>96                                            </td><td>22                                            </td><td>62.539                                        </td><td>2016                                          </td><td>22.91666667                                   </td><td>0.22916667                                    </td></tr>\n",
       "</tbody>\n",
       "</table>\n"
      ],
      "text/latex": [
       "\\begin{tabular}{r|llllllll}\n",
       " ENTIDAD.FEDERATIVA & FACULTAD.O.ESCUELA.DE.MEDICINA & SUSTENTANTES & SELECCIONADOS & PROMEDIO.GENERAL & AGNO & X. & eficiencia\\\\\n",
       "\\hline\n",
       "\t AGUASCALIENTES                                 & UNIVERSIDAD CUAHUTEMOC                         &  7                                             &  0                                             & 57.746                                         & 2013                                           & 0                                              & 0.00000000                                    \\\\\n",
       "\t AGUASCALIENTES                                 & UNIVERSIDAD CUAHUTEMOC                         & 15                                             &  1                                             & 58.518                                         & 2014                                           & 6.666666667                                    & 0.06666667                                    \\\\\n",
       "\t AGUASCALIENTES                                 & UNIVERSIDAD CUAHUTEMOC                         & 59                                             &  8                                             & 59.141                                         & 2015                                           & 13.55932203                                    & 0.13559322                                    \\\\\n",
       "\t AGUASCALIENTES                                 & UNIVERSIDAD CUAUHTEMOC   CAMPUS AGUASCALIENTES & 72                                             &  9                                             & 63.810                                         & 2017                                           & 12.5                                           & 0.12500000                                    \\\\\n",
       "\t AGUASCALIENTES                                 & UNIVERSIDAD CUAUHTEMOC   CAMPUS AGUASCALIENTES & 79                                             & 20                                             & 65.120                                         & 2018                                           & 25.3164557                                     & 0.25316456                                    \\\\\n",
       "\t AGUASCALIENTES                                 & UNIVERSIDAD CUAHUTEMOC                         & 96                                             & 22                                             & 62.539                                         & 2016                                           & 22.91666667                                    & 0.22916667                                    \\\\\n",
       "\\end{tabular}\n"
      ],
      "text/markdown": [
       "\n",
       "| ENTIDAD.FEDERATIVA | FACULTAD.O.ESCUELA.DE.MEDICINA | SUSTENTANTES | SELECCIONADOS | PROMEDIO.GENERAL | AGNO | X. | eficiencia |\n",
       "|---|---|---|---|---|---|---|---|\n",
       "| AGUASCALIENTES                                 | UNIVERSIDAD CUAHUTEMOC                         |  7                                             |  0                                             | 57.746                                         | 2013                                           | 0                                              | 0.00000000                                     |\n",
       "| AGUASCALIENTES                                 | UNIVERSIDAD CUAHUTEMOC                         | 15                                             |  1                                             | 58.518                                         | 2014                                           | 6.666666667                                    | 0.06666667                                     |\n",
       "| AGUASCALIENTES                                 | UNIVERSIDAD CUAHUTEMOC                         | 59                                             |  8                                             | 59.141                                         | 2015                                           | 13.55932203                                    | 0.13559322                                     |\n",
       "| AGUASCALIENTES                                 | UNIVERSIDAD CUAUHTEMOC   CAMPUS AGUASCALIENTES | 72                                             |  9                                             | 63.810                                         | 2017                                           | 12.5                                           | 0.12500000                                     |\n",
       "| AGUASCALIENTES                                 | UNIVERSIDAD CUAUHTEMOC   CAMPUS AGUASCALIENTES | 79                                             | 20                                             | 65.120                                         | 2018                                           | 25.3164557                                     | 0.25316456                                     |\n",
       "| AGUASCALIENTES                                 | UNIVERSIDAD CUAHUTEMOC                         | 96                                             | 22                                             | 62.539                                         | 2016                                           | 22.91666667                                    | 0.22916667                                     |\n",
       "\n"
      ],
      "text/plain": [
       "  ENTIDAD.FEDERATIVA FACULTAD.O.ESCUELA.DE.MEDICINA                \n",
       "1 AGUASCALIENTES     UNIVERSIDAD CUAHUTEMOC                        \n",
       "2 AGUASCALIENTES     UNIVERSIDAD CUAHUTEMOC                        \n",
       "3 AGUASCALIENTES     UNIVERSIDAD CUAHUTEMOC                        \n",
       "4 AGUASCALIENTES     UNIVERSIDAD CUAUHTEMOC   CAMPUS AGUASCALIENTES\n",
       "5 AGUASCALIENTES     UNIVERSIDAD CUAUHTEMOC   CAMPUS AGUASCALIENTES\n",
       "6 AGUASCALIENTES     UNIVERSIDAD CUAHUTEMOC                        \n",
       "  SUSTENTANTES SELECCIONADOS PROMEDIO.GENERAL AGNO X.          eficiencia\n",
       "1  7            0            57.746           2013 0           0.00000000\n",
       "2 15            1            58.518           2014 6.666666667 0.06666667\n",
       "3 59            8            59.141           2015 13.55932203 0.13559322\n",
       "4 72            9            63.810           2017 12.5        0.12500000\n",
       "5 79           20            65.120           2018 25.3164557  0.25316456\n",
       "6 96           22            62.539           2016 22.91666667 0.22916667"
      ]
     },
     "metadata": {},
     "output_type": "display_data"
    }
   ],
   "source": [
    "head(d)"
   ]
  },
  {
   "cell_type": "code",
   "execution_count": null,
   "metadata": {},
   "outputs": [],
   "source": [
    "#d <- d[!is.na(d$eficiencia),]    con el # no se ejecuta la orden"
   ]
  },
  {
   "cell_type": "code",
   "execution_count": 9,
   "metadata": {},
   "outputs": [],
   "source": [
    "d <- d[!is.na(d$eficiencia),] # con esto quitamos los nulos"
   ]
  },
  {
   "cell_type": "code",
   "execution_count": null,
   "metadata": {},
   "outputs": [],
   "source": [
    "R DEBUTS EMMANUEL PARADIS R PARA PRINCIPIANTES"
   ]
  },
  {
   "cell_type": "code",
   "execution_count": 18,
   "metadata": {},
   "outputs": [
    {
     "data": {
      "text/html": [
       "0.215563506261181"
      ],
      "text/latex": [
       "0.215563506261181"
      ],
      "text/markdown": [
       "0.215563506261181"
      ],
      "text/plain": [
       "[1] 0.2155635"
      ]
     },
     "metadata": {},
     "output_type": "display_data"
    }
   ],
   "source": [
    "p <- median(d$eficiencia)\n",
    "p"
   ]
  },
  {
   "cell_type": "code",
   "execution_count": 19,
   "metadata": {},
   "outputs": [
    {
     "data": {
      "text/html": [
       "0.216"
      ],
      "text/latex": [
       "0.216"
      ],
      "text/markdown": [
       "0.216"
      ],
      "text/plain": [
       "[1] 0.216"
      ]
     },
     "metadata": {},
     "output_type": "display_data"
    },
    {
     "data": {
      "text/html": [
       "0.784"
      ],
      "text/latex": [
       "0.784"
      ],
      "text/markdown": [
       "0.784"
      ],
      "text/plain": [
       "[1] 0.784"
      ]
     },
     "metadata": {},
     "output_type": "display_data"
    }
   ],
   "source": [
    "p <- round(p,3)\n",
    "p # probabilidad de aprobar\n",
    "q <- 1-p\n",
    "q # probabilidad de reprobar"
   ]
  },
  {
   "cell_type": "code",
   "execution_count": 21,
   "metadata": {},
   "outputs": [
    {
     "data": {
      "text/html": [
       "0.518109696"
      ],
      "text/latex": [
       "0.518109696"
      ],
      "text/markdown": [
       "0.518109696"
      ],
      "text/plain": [
       "[1] 0.5181097"
      ]
     },
     "metadata": {},
     "output_type": "display_data"
    }
   ],
   "source": [
    "k=3\n",
    "paprobarenkintentos=1-(q)**k\n",
    "paprobarenkintentos"
   ]
  },
  {
   "cell_type": "markdown",
   "metadata": {},
   "source": [
    "En 3 intentos un medico tiene más del 50% de probabilidad de aprovar el examen de ENARM"
   ]
  },
  {
   "cell_type": "code",
   "execution_count": null,
   "metadata": {},
   "outputs": [],
   "source": []
  },
  {
   "cell_type": "code",
   "execution_count": null,
   "metadata": {},
   "outputs": [],
   "source": []
  },
  {
   "cell_type": "code",
   "execution_count": null,
   "metadata": {},
   "outputs": [],
   "source": []
  }
 ],
 "metadata": {
  "kernelspec": {
   "display_name": "R",
   "language": "R",
   "name": "ir"
  },
  "language_info": {
   "codemirror_mode": "r",
   "file_extension": ".r",
   "mimetype": "text/x-r-source",
   "name": "R",
   "pygments_lexer": "r",
   "version": "3.6.1"
  }
 },
 "nbformat": 4,
 "nbformat_minor": 2
}
