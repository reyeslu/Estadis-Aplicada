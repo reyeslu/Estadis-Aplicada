{
 "cells": [
  {
   "cell_type": "markdown",
   "metadata": {},
   "source": [
    "# RESULTADOS ENARM 2019"
   ]
  },
  {
   "cell_type": "markdown",
   "metadata": {},
   "source": [
    "## CONSPIRACION CONTRA AMLO"
   ]
  },
  {
   "cell_type": "markdown",
   "metadata": {},
   "source": [
    "El pasado viernes 15 de noviembre fueron publicados los resultados del examen ENARM para medicos.\n",
    "La ultra derecha no tardo en emitir un comunicado acusando al presidente de bajar la dificultad del exámen con tal de cubrir la demanda de medicos en el pais."
   ]
  },
  {
   "cell_type": "markdown",
   "metadata": {},
   "source": [
    "A continuacion compararemos los resultados del examen 2019, contra los resultados de los años anteriores mediante el RANGO DE SIGNIFICANCIA para validar si esta acusacion es fundamentada."
   ]
  },
  {
   "cell_type": "code",
   "execution_count": 21,
   "metadata": {},
   "outputs": [],
   "source": [
    "e2019 <- read.csv(\"2019.csv\")"
   ]
  },
  {
   "cell_type": "code",
   "execution_count": 22,
   "metadata": {},
   "outputs": [],
   "source": [
    "e2018 <- read.csv(\"examen medicina.csv\")"
   ]
  },
  {
   "cell_type": "markdown",
   "metadata": {},
   "source": [
    "$$ efi = \\dfrac{seleccionados}{sustentados}$$"
   ]
  },
  {
   "cell_type": "code",
   "execution_count": 23,
   "metadata": {},
   "outputs": [],
   "source": [
    "e2018$efi <- e2018$SELECCIONADOS / e2018$SUSTENTANTES"
   ]
  },
  {
   "cell_type": "code",
   "execution_count": 24,
   "metadata": {},
   "outputs": [],
   "source": [
    "e2019$efi <- e2019$SELECCIONADOS / e2019$SUSTENTANTES"
   ]
  },
  {
   "cell_type": "code",
   "execution_count": 27,
   "metadata": {},
   "outputs": [
    {
     "data": {
      "text/html": [
       "<ol class=list-inline>\n",
       "\t<li>0</li>\n",
       "\t<li>0.0666666666666667</li>\n",
       "\t<li>0.135593220338983</li>\n",
       "\t<li>0.125</li>\n",
       "\t<li>0.253164556962025</li>\n",
       "\t<li>0.229166666666667</li>\n",
       "</ol>\n"
      ],
      "text/latex": [
       "\\begin{enumerate*}\n",
       "\\item 0\n",
       "\\item 0.0666666666666667\n",
       "\\item 0.135593220338983\n",
       "\\item 0.125\n",
       "\\item 0.253164556962025\n",
       "\\item 0.229166666666667\n",
       "\\end{enumerate*}\n"
      ],
      "text/markdown": [
       "1. 0\n",
       "2. 0.0666666666666667\n",
       "3. 0.135593220338983\n",
       "4. 0.125\n",
       "5. 0.253164556962025\n",
       "6. 0.229166666666667\n",
       "\n",
       "\n"
      ],
      "text/plain": [
       "[1] 0.00000000 0.06666667 0.13559322 0.12500000 0.25316456 0.22916667"
      ]
     },
     "metadata": {},
     "output_type": "display_data"
    }
   ],
   "source": [
    "head (e2018$efi)"
   ]
  },
  {
   "cell_type": "code",
   "execution_count": 28,
   "metadata": {},
   "outputs": [
    {
     "data": {
      "text/html": [
       "<ol class=list-inline>\n",
       "\t<li>0.44043321299639</li>\n",
       "\t<li>0.333333333333333</li>\n",
       "\t<li>0.160337552742616</li>\n",
       "\t<li>0.165714285714286</li>\n",
       "\t<li>0.203296703296703</li>\n",
       "\t<li>0.237442922374429</li>\n",
       "</ol>\n"
      ],
      "text/latex": [
       "\\begin{enumerate*}\n",
       "\\item 0.44043321299639\n",
       "\\item 0.333333333333333\n",
       "\\item 0.160337552742616\n",
       "\\item 0.165714285714286\n",
       "\\item 0.203296703296703\n",
       "\\item 0.237442922374429\n",
       "\\end{enumerate*}\n"
      ],
      "text/markdown": [
       "1. 0.44043321299639\n",
       "2. 0.333333333333333\n",
       "3. 0.160337552742616\n",
       "4. 0.165714285714286\n",
       "5. 0.203296703296703\n",
       "6. 0.237442922374429\n",
       "\n",
       "\n"
      ],
      "text/plain": [
       "[1] 0.4404332 0.3333333 0.1603376 0.1657143 0.2032967 0.2374429"
      ]
     },
     "metadata": {},
     "output_type": "display_data"
    }
   ],
   "source": [
    "head(e2019$efi)"
   ]
  },
  {
   "cell_type": "code",
   "execution_count": 29,
   "metadata": {},
   "outputs": [],
   "source": [
    "options (repr.plot.width=6, repr.plot.height=6/1.6801)"
   ]
  },
  {
   "cell_type": "code",
   "execution_count": 32,
   "metadata": {},
   "outputs": [
    {
     "data": {
      "text/plain": [
       "   Min. 1st Qu.  Median    Mean 3rd Qu.    Max.    NA's \n",
       " 0.0000  0.1429  0.2156  0.2426  0.3075  1.0000      11 "
      ]
     },
     "metadata": {},
     "output_type": "display_data"
    }
   ],
   "source": [
    "efi2018 <- summary (e2018$efi)\n",
    "efi2018"
   ]
  },
  {
   "cell_type": "code",
   "execution_count": 33,
   "metadata": {},
   "outputs": [
    {
     "data": {
      "text/plain": [
       "   Min. 1st Qu.  Median    Mean 3rd Qu.    Max. \n",
       " 0.0000  0.1420  0.2019  0.2135  0.2784  0.8276 "
      ]
     },
     "metadata": {},
     "output_type": "display_data"
    }
   ],
   "source": [
    "efi2019 <- summary (e2019$efi)\n",
    "efi2019"
   ]
  },
  {
   "cell_type": "code",
   "execution_count": 40,
   "metadata": {},
   "outputs": [
    {
     "data": {
      "image/png": "[encoded data removed]",
      "text/plain": [
       "Plot with title \"frecuencia de eficiencias 2018\""
      ]
     },
     "metadata": {},
     "output_type": "display_data"
    }
   ],
   "source": [
    "hist (e2018$efi,  main=\"frecuencia de eficiencias 2018\", col = \"green\")"
   ]
  },
  {
   "cell_type": "code",
   "execution_count": 41,
   "metadata": {},
   "outputs": [
    {
     "data": {
      "image/png": "[encoded data removed]",
      "text/plain": [
       "Plot with title \"frecuencia de eficiencias 2019\""
      ]
     },
     "metadata": {},
     "output_type": "display_data"
    }
   ],
   "source": [
    "hist (e2019$efi,  main=\"frecuencia de eficiencias 2019\", col=\"green\")"
   ]
  },
  {
   "cell_type": "markdown",
   "metadata": {},
   "source": [
    "Calculando la desviacion estandar para 2018 y 2019, tenemos que..."
   ]
  },
  {
   "cell_type": "code",
   "execution_count": 48,
   "metadata": {},
   "outputs": [
    {
     "data": {
      "text/html": [
       "0.151012860120549"
      ],
      "text/latex": [
       "0.151012860120549"
      ],
      "text/markdown": [
       "0.151012860120549"
      ],
      "text/plain": [
       "[1] 0.1510129"
      ]
     },
     "metadata": {},
     "output_type": "display_data"
    }
   ],
   "source": [
    "sd2018 <- sd (e2018$efi, na.rm = T)\n",
    "sd2018"
   ]
  },
  {
   "cell_type": "code",
   "execution_count": 46,
   "metadata": {},
   "outputs": [
    {
     "data": {
      "text/html": [
       "0.124348756244065"
      ],
      "text/latex": [
       "0.124348756244065"
      ],
      "text/markdown": [
       "0.124348756244065"
      ],
      "text/plain": [
       "[1] 0.1243488"
      ]
     },
     "metadata": {},
     "output_type": "display_data"
    }
   ],
   "source": [
    "sd2019 <- sd (e2019$efi)\n",
    "sd2019"
   ]
  },
  {
   "cell_type": "code",
   "execution_count": null,
   "metadata": {},
   "outputs": [],
   "source": [
    "#rango de significancia"
   ]
  },
  {
   "cell_type": "markdown",
   "metadata": {},
   "source": [
    "$$ \\mu 2018 = 0.2156 $$\n",
    "$$ \\sigma = 0.1510 $$\n",
    "$$ rango = \\mu \\pm 2\\sigma $$"
   ]
  },
  {
   "cell_type": "markdown",
   "metadata": {},
   "source": [
    "$$ \\mu 2019 = 0.2019 $$\n",
    "$$ \\sigma = 0.1243 $$\n",
    "$$ rango = \\mu \\pm 2\\sigma $$"
   ]
  },
  {
   "cell_type": "code",
   "execution_count": 49,
   "metadata": {},
   "outputs": [
    {
     "data": {
      "text/html": [
       "-0.0864"
      ],
      "text/latex": [
       "-0.0864"
      ],
      "text/markdown": [
       "-0.0864"
      ],
      "text/plain": [
       "[1] -0.0864"
      ]
     },
     "metadata": {},
     "output_type": "display_data"
    }
   ],
   "source": [
    "0.2156 - (2*0.1510)"
   ]
  },
  {
   "cell_type": "code",
   "execution_count": 50,
   "metadata": {},
   "outputs": [
    {
     "data": {
      "text/html": [
       "0.5176"
      ],
      "text/latex": [
       "0.5176"
      ],
      "text/markdown": [
       "0.5176"
      ],
      "text/plain": [
       "[1] 0.5176"
      ]
     },
     "metadata": {},
     "output_type": "display_data"
    }
   ],
   "source": [
    "0.2156 + (2*0.1510)"
   ]
  },
  {
   "cell_type": "code",
   "execution_count": 52,
   "metadata": {},
   "outputs": [
    {
     "data": {
      "text/html": [
       "-0.0467"
      ],
      "text/latex": [
       "-0.0467"
      ],
      "text/markdown": [
       "-0.0467"
      ],
      "text/plain": [
       "[1] -0.0467"
      ]
     },
     "metadata": {},
     "output_type": "display_data"
    }
   ],
   "source": [
    "0.2019 - (2*0.1243)"
   ]
  },
  {
   "cell_type": "code",
   "execution_count": 53,
   "metadata": {},
   "outputs": [
    {
     "data": {
      "text/html": [
       "0.4505"
      ],
      "text/latex": [
       "0.4505"
      ],
      "text/markdown": [
       "0.4505"
      ],
      "text/plain": [
       "[1] 0.4505"
      ]
     },
     "metadata": {},
     "output_type": "display_data"
    }
   ],
   "source": [
    "0.2019 + (2*0.1243)"
   ]
  },
  {
   "cell_type": "markdown",
   "metadata": {},
   "source": [
    "CONCLUSION: los resultados obtenidos en el rango de significacia de 2019, esta dentro del resultado obtenido para el rango de significancia de los años anteriores del examen ENARM.\n",
    "Esto nos indica que la acusacion de la extrema derecha no tiene un sustento estadistico"
   ]
  },
  {
   "cell_type": "code",
   "execution_count": null,
   "metadata": {},
   "outputs": [],
   "source": []
  },
  {
   "cell_type": "code",
   "execution_count": null,
   "metadata": {},
   "outputs": [],
   "source": []
  },
  {
   "cell_type": "code",
   "execution_count": null,
   "metadata": {},
   "outputs": [],
   "source": []
  },
  {
   "cell_type": "code",
   "execution_count": null,
   "metadata": {},
   "outputs": [],
   "source": []
  },
  {
   "cell_type": "code",
   "execution_count": null,
   "metadata": {},
   "outputs": [],
   "source": []
  }
 ],
 "metadata": {
  "kernelspec": {
   "display_name": "R",
   "language": "R",
   "name": "ir"
  },
  "language_info": {
   "codemirror_mode": "r",
   "file_extension": ".r",
   "mimetype": "text/x-r-source",
   "name": "R",
   "pygments_lexer": "r",
   "version": "3.6.1"
  }
 },
 "nbformat": 4,
 "nbformat_minor": 2
}
